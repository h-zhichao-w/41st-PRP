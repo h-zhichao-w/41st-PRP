{
 "cells": [
  {
   "cell_type": "markdown",
   "source": [
    "本文件主要用于测试提取osm中的坐标数据"
   ],
   "metadata": {
    "collapsed": false,
    "pycharm": {
     "name": "#%% md\n"
    }
   }
  },
  {
   "cell_type": "code",
   "execution_count": 3,
   "outputs": [
    {
     "name": "stdout",
     "output_type": "stream",
     "text": [
      "7115\n",
      "7115\n"
     ]
    }
   ],
   "source": [
    "import pandas as pd\n",
    "\n",
    "LAT = []\n",
    "LON = []\n",
    "\n",
    "with open('map.osm', 'r') as file:\n",
    "    line = file.readline()\n",
    "    while line:\n",
    "        if 'node' in line and 'lat' in line:\n",
    "            Lat = line[line.find('lat') : line.find('lon')]\n",
    "            Lon = line[line.find('lon') : ]\n",
    "\n",
    "            lat = ''\n",
    "            lon = ''\n",
    "\n",
    "            for i in Lat:\n",
    "                if i.isdigit() or i == '.':\n",
    "                    lat += i\n",
    "            if len(lat) > 0:\n",
    "                LAT.append(float(lat))\n",
    "\n",
    "            for i in Lon:\n",
    "                if i.isdigit() or i == '.' or i == '-':\n",
    "                    lon += i\n",
    "            if len(lon) > 0:\n",
    "                LON.append(float(lon))\n",
    "\n",
    "        line = file.readline()\n",
    "\n",
    "print(len(LON))\n",
    "print(len(LAT))\n",
    "df = pd.DataFrame({'LatitudeDegrees': LAT, 'LongitudeDegrees': LON})\n",
    "df.to_csv('osm2.csv')"
   ],
   "metadata": {
    "collapsed": false,
    "pycharm": {
     "name": "#%%\n"
    }
   }
  }
 ],
 "metadata": {
  "kernelspec": {
   "display_name": "Python 3",
   "language": "python",
   "name": "python3"
  },
  "language_info": {
   "codemirror_mode": {
    "name": "ipython",
    "version": 2
   },
   "file_extension": ".py",
   "mimetype": "text/x-python",
   "name": "python",
   "nbconvert_exporter": "python",
   "pygments_lexer": "ipython2",
   "version": "2.7.6"
  }
 },
 "nbformat": 4,
 "nbformat_minor": 0
}